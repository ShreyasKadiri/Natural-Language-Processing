{
  "nbformat": 4,
  "nbformat_minor": 0,
  "metadata": {
    "colab": {
      "name": "stemming_lemmatization_with_nltk_spacy.ipynb",
      "provenance": [],
      "collapsed_sections": [],
      "authorship_tag": "ABX9TyPcn06F31FiKvjY85Bhb1w3",
      "include_colab_link": true
    },
    "kernelspec": {
      "name": "python3",
      "display_name": "Python 3"
    },
    "language_info": {
      "name": "python"
    }
  },
  "cells": [
    {
      "cell_type": "markdown",
      "metadata": {
        "id": "view-in-github",
        "colab_type": "text"
      },
      "source": [
        "<a href=\"https://colab.research.google.com/github/ShreyasKadiri/Natural-Language-Processing/blob/main/stemming_lemmatization_with_nltk_spacy.ipynb\" target=\"_parent\"><img src=\"https://colab.research.google.com/assets/colab-badge.svg\" alt=\"Open In Colab\"/></a>"
      ]
    },
    {
      "cell_type": "code",
      "metadata": {
        "id": "uDf-Y-oh3miu"
      },
      "source": [
        "import nltk"
      ],
      "execution_count": 1,
      "outputs": []
    },
    {
      "cell_type": "code",
      "metadata": {
        "id": "gAcYZjBT5NC_"
      },
      "source": [
        "#nltk.download()"
      ],
      "execution_count": 2,
      "outputs": []
    },
    {
      "cell_type": "code",
      "metadata": {
        "id": "X0UR4viE6QNR"
      },
      "source": [
        "from nltk.tokenize import word_tokenize\n",
        "from nltk.stem import PorterStemmer"
      ],
      "execution_count": 4,
      "outputs": []
    },
    {
      "cell_type": "code",
      "metadata": {
        "colab": {
          "base_uri": "https://localhost:8080/"
        },
        "id": "p_l8IXfd69hM",
        "outputId": "fc352fb3-15d7-47e7-8917-3977ccd84965"
      },
      "source": [
        "porter_stemmer = PorterStemmer() \n",
        "words = [\"cats\", \"catty\", \"catlike\",\"kittens\"] \n",
        "  \n",
        "for w in words: \n",
        "    print(w, \" : \", porter_stemmer.stem(w))"
      ],
      "execution_count": 6,
      "outputs": [
        {
          "output_type": "stream",
          "text": [
            "cats  :  cat\n",
            "catty  :  catti\n",
            "catlike  :  catlik\n",
            "kittens  :  kitten\n"
          ],
          "name": "stdout"
        }
      ]
    },
    {
      "cell_type": "code",
      "metadata": {
        "colab": {
          "base_uri": "https://localhost:8080/"
        },
        "id": "gM1D7GhX7Vpf",
        "outputId": "7fc7d6c1-0d76-4ba2-87bf-70ac4de1e4e9"
      },
      "source": [
        "words =[\"computer\",\"compute\"]\n",
        "for w in words: \n",
        "    print(w, \" : \", porter_stemmer.stem(w))"
      ],
      "execution_count": 7,
      "outputs": [
        {
          "output_type": "stream",
          "text": [
            "computer  :  comput\n",
            "compute  :  comput\n"
          ],
          "name": "stdout"
        }
      ]
    },
    {
      "cell_type": "code",
      "metadata": {
        "colab": {
          "base_uri": "https://localhost:8080/"
        },
        "id": "ZZ2w3cxj7cTE",
        "outputId": "7262f8f2-2c13-4f03-fc8b-335cae1a9a29"
      },
      "source": [
        "words =[\"programmer\",\"programme\",\"programs\"]\n",
        "for w in words: \n",
        "    print(w, \" : \", porter_stemmer.stem(w))"
      ],
      "execution_count": 10,
      "outputs": [
        {
          "output_type": "stream",
          "text": [
            "programmer  :  programm\n",
            "programme  :  programm\n",
            "programs  :  program\n"
          ],
          "name": "stdout"
        }
      ]
    },
    {
      "cell_type": "code",
      "metadata": {
        "colab": {
          "base_uri": "https://localhost:8080/"
        },
        "id": "Ty-_hh2E7i1t",
        "outputId": "37d8c84f-8a34-4940-d39a-138ecb598c49"
      },
      "source": [
        "from nltk.stem.snowball import SnowballStemmer\n",
        "\n",
        "snowball_stemmer = SnowballStemmer(\"english\")\n",
        "\n",
        "words = [\"cats\", \"catty\", \"catlike\",\"kittens\"] \n",
        "  \n",
        "for w in words: \n",
        "    print(w, \" : \", snowball_stemmer.stem(w))"
      ],
      "execution_count": 12,
      "outputs": [
        {
          "output_type": "stream",
          "text": [
            "cats  :  cat\n",
            "catty  :  catti\n",
            "catlike  :  catlik\n",
            "kittens  :  kitten\n"
          ],
          "name": "stdout"
        }
      ]
    },
    {
      "cell_type": "code",
      "metadata": {
        "colab": {
          "base_uri": "https://localhost:8080/"
        },
        "id": "T-ZYjmWa7xUh",
        "outputId": "cd7bf873-b2c8-4d92-9691-54b66e97b85b"
      },
      "source": [
        "words =[\"programmer\",\"programme\",\"programs\"]\n",
        "for w in words: \n",
        "    print(w, \" : \", snowball_stemmer.stem(w))"
      ],
      "execution_count": 13,
      "outputs": [
        {
          "output_type": "stream",
          "text": [
            "programmer  :  programm\n",
            "programme  :  programm\n",
            "programs  :  program\n"
          ],
          "name": "stdout"
        }
      ]
    },
    {
      "cell_type": "code",
      "metadata": {
        "id": "BhhJNG7576PN"
      },
      "source": [
        ""
      ],
      "execution_count": null,
      "outputs": []
    },
    {
      "cell_type": "markdown",
      "metadata": {
        "id": "AwN4_PfS7-Na"
      },
      "source": [
        "Let us now look at lemmatization using NLTK"
      ]
    },
    {
      "cell_type": "code",
      "metadata": {
        "id": "-c5l22fQ8BDO"
      },
      "source": [
        "#nltk.download('wordnet')\n",
        "from nltk.stem import WordNetLemmatizer"
      ],
      "execution_count": 17,
      "outputs": []
    },
    {
      "cell_type": "code",
      "metadata": {
        "colab": {
          "base_uri": "https://localhost:8080/"
        },
        "id": "WqppFYCc8Ga8",
        "outputId": "a391c444-75f0-48ba-814a-dea4a2b436b3"
      },
      "source": [
        "wnl = WordNetLemmatizer()\n",
        "words =[\"programmer\",\"programme\",\"programs\"]\n",
        "for w in words: \n",
        "    print(w, \" : \", wnl.lemmatize(w))"
      ],
      "execution_count": 18,
      "outputs": [
        {
          "output_type": "stream",
          "text": [
            "programmer  :  programmer\n",
            "programme  :  programme\n",
            "programs  :  program\n"
          ],
          "name": "stdout"
        }
      ]
    },
    {
      "cell_type": "code",
      "metadata": {
        "colab": {
          "base_uri": "https://localhost:8080/"
        },
        "id": "6MieJsqq8LAI",
        "outputId": "de64bd8d-762c-4d7d-d46b-0f1f6ca7764e"
      },
      "source": [
        "words = [\"cats\", \"catty\", \"catlike\",\"kittens\"] \n",
        "  \n",
        "for w in words: \n",
        "    print(w, \" : \", wnl.lemmatize(w))"
      ],
      "execution_count": 19,
      "outputs": [
        {
          "output_type": "stream",
          "text": [
            "cats  :  cat\n",
            "catty  :  catty\n",
            "catlike  :  catlike\n",
            "kittens  :  kitten\n"
          ],
          "name": "stdout"
        }
      ]
    },
    {
      "cell_type": "code",
      "metadata": {
        "colab": {
          "base_uri": "https://localhost:8080/"
        },
        "id": "XpYCyXiA8u7e",
        "outputId": "4acca2e9-eb12-4b77-d009-d65bc9f33d0c"
      },
      "source": [
        "words = [\"better\", \"best\", \"good\"] \n",
        "  \n",
        "for w in words: \n",
        "    print(w, \" : \", wnl.lemmatize(w))"
      ],
      "execution_count": 20,
      "outputs": [
        {
          "output_type": "stream",
          "text": [
            "better  :  better\n",
            "best  :  best\n",
            "good  :  good\n"
          ],
          "name": "stdout"
        }
      ]
    },
    {
      "cell_type": "code",
      "metadata": {
        "colab": {
          "base_uri": "https://localhost:8080/"
        },
        "id": "0Hqelcj88yIE",
        "outputId": "ef025cec-89f4-43fb-ddf6-d73db67defe6"
      },
      "source": [
        "#nltk.download('punkt')\n",
        "sentence =\"Programmers use programming languages to write computer programs\"\n",
        "words = word_tokenize(sentence) \n",
        "   \n",
        "for w in words: \n",
        "    print(w, \" : \",porter_stemmer.stem(w),\":\",wnl.lemmatize(w))"
      ],
      "execution_count": 23,
      "outputs": [
        {
          "output_type": "stream",
          "text": [
            "Programmers  :  programm : Programmers\n",
            "use  :  use : use\n",
            "programming  :  program : programming\n",
            "languages  :  languag : language\n",
            "to  :  to : to\n",
            "write  :  write : write\n",
            "computer  :  comput : computer\n",
            "programs  :  program : program\n"
          ],
          "name": "stdout"
        }
      ]
    },
    {
      "cell_type": "code",
      "metadata": {
        "colab": {
          "base_uri": "https://localhost:8080/"
        },
        "id": "MbRSHNaO812Z",
        "outputId": "2c967619-94bd-412d-99a2-56ce22027465"
      },
      "source": [
        "sentence = \"Cars is a good movie with many animated car's\"\n",
        "words = word_tokenize(sentence) \n",
        "   \n",
        "for w in words: \n",
        "    print(w, \" : \", porter_stemmer.stem(w),\":\",wnl.lemmatize(w))"
      ],
      "execution_count": 24,
      "outputs": [
        {
          "output_type": "stream",
          "text": [
            "Cars  :  car : Cars\n",
            "is  :  is : is\n",
            "a  :  a : a\n",
            "good  :  good : good\n",
            "movie  :  movi : movie\n",
            "with  :  with : with\n",
            "many  :  mani : many\n",
            "animated  :  anim : animated\n",
            "car  :  car : car\n",
            "'s  :  's : 's\n"
          ],
          "name": "stdout"
        }
      ]
    },
    {
      "cell_type": "code",
      "metadata": {
        "colab": {
          "base_uri": "https://localhost:8080/"
        },
        "id": "Lz-Rh2lE9ArV",
        "outputId": "d642647a-bd6e-48ff-d6d1-cd0d33041df0"
      },
      "source": [
        "sentence = \"Lets meet today. In this meeting let us continue to discuss on what we left during the last time i met you\"\n",
        "words = word_tokenize(sentence) \n",
        "   \n",
        "for w in words: \n",
        "    print(w, \" : \", porter_stemmer.stem(w),\":\",wnl.lemmatize(w))"
      ],
      "execution_count": 25,
      "outputs": [
        {
          "output_type": "stream",
          "text": [
            "Lets  :  let : Lets\n",
            "meet  :  meet : meet\n",
            "today  :  today : today\n",
            ".  :  . : .\n",
            "In  :  In : In\n",
            "this  :  thi : this\n",
            "meeting  :  meet : meeting\n",
            "let  :  let : let\n",
            "us  :  us : u\n",
            "continue  :  continu : continue\n",
            "to  :  to : to\n",
            "discuss  :  discuss : discus\n",
            "on  :  on : on\n",
            "what  :  what : what\n",
            "we  :  we : we\n",
            "left  :  left : left\n",
            "during  :  dure : during\n",
            "the  :  the : the\n",
            "last  :  last : last\n",
            "time  :  time : time\n",
            "i  :  i : i\n",
            "met  :  met : met\n",
            "you  :  you : you\n"
          ],
          "name": "stdout"
        }
      ]
    },
    {
      "cell_type": "code",
      "metadata": {
        "id": "p5s2aWOy9Ex6"
      },
      "source": [
        ""
      ],
      "execution_count": null,
      "outputs": []
    },
    {
      "cell_type": "markdown",
      "metadata": {
        "id": "eazPa_u-9I-U"
      },
      "source": [
        "Let us do lemmatization with spaCy\n",
        "\n"
      ]
    },
    {
      "cell_type": "code",
      "metadata": {
        "id": "-vkngE9x9KBv"
      },
      "source": [
        "import spacy\n",
        "nlp = spacy.load('en_core_web_sm')"
      ],
      "execution_count": 27,
      "outputs": []
    },
    {
      "cell_type": "code",
      "metadata": {
        "colab": {
          "base_uri": "https://localhost:8080/"
        },
        "id": "BkFJcCGX9MxO",
        "outputId": "ab711620-0c88-4153-e6a3-92802333fa03"
      },
      "source": [
        "sentence =\"Programmers use programming languages to write computer programs\"\n",
        "doc = nlp(sentence)\n",
        "for word in doc:\n",
        "    print(word.text + ':', word.lemma_)"
      ],
      "execution_count": 28,
      "outputs": [
        {
          "output_type": "stream",
          "text": [
            "Programmers: programmer\n",
            "use: use\n",
            "programming: programming\n",
            "languages: language\n",
            "to: to\n",
            "write: write\n",
            "computer: computer\n",
            "programs: program\n"
          ],
          "name": "stdout"
        }
      ]
    },
    {
      "cell_type": "code",
      "metadata": {
        "colab": {
          "base_uri": "https://localhost:8080/"
        },
        "id": "sYy7ofZD94dx",
        "outputId": "62a77c98-9f9b-48e6-91a5-a85c52308e47"
      },
      "source": [
        "sentence =\"cats catty catlike kittens\"\n",
        "doc = nlp(sentence)\n",
        "for word in doc:\n",
        "    print(word.text + ':', word.lemma_)"
      ],
      "execution_count": 29,
      "outputs": [
        {
          "output_type": "stream",
          "text": [
            "cats: cat\n",
            "catty: catty\n",
            "catlike: catlike\n",
            "kittens: kittens\n"
          ],
          "name": "stdout"
        }
      ]
    },
    {
      "cell_type": "code",
      "metadata": {
        "colab": {
          "base_uri": "https://localhost:8080/"
        },
        "id": "RpW5JCDq97bz",
        "outputId": "9b41102f-c5ad-4c45-95dd-0ae60beb1ed5"
      },
      "source": [
        "sentence = \"Cars is a good movie with many animated car's\"\n",
        "doc = nlp(sentence)\n",
        "for word in doc:\n",
        "    print(word.text + ':', word.lemma_)"
      ],
      "execution_count": 30,
      "outputs": [
        {
          "output_type": "stream",
          "text": [
            "Cars: car\n",
            "is: be\n",
            "a: a\n",
            "good: good\n",
            "movie: movie\n",
            "with: with\n",
            "many: many\n",
            "animated: animate\n",
            "car: car\n",
            "'s: 's\n"
          ],
          "name": "stdout"
        }
      ]
    },
    {
      "cell_type": "code",
      "metadata": {
        "colab": {
          "base_uri": "https://localhost:8080/"
        },
        "id": "eW8VZSu6996F",
        "outputId": "da167c6f-16d6-4699-ebcc-0d63fd6c1307"
      },
      "source": [
        "sentence = \"Lets meet today. In this meeting let us continue to discuss on what we left during the last time i met you\"\n",
        "doc = nlp(sentence)\n",
        "for word in doc:\n",
        "    print(word.text + ':', word.lemma_)"
      ],
      "execution_count": 31,
      "outputs": [
        {
          "output_type": "stream",
          "text": [
            "Lets: let\n",
            "meet: meet\n",
            "today: today\n",
            ".: .\n",
            "In: in\n",
            "this: this\n",
            "meeting: meeting\n",
            "let: let\n",
            "us: -PRON-\n",
            "continue: continue\n",
            "to: to\n",
            "discuss: discuss\n",
            "on: on\n",
            "what: what\n",
            "we: -PRON-\n",
            "left: leave\n",
            "during: during\n",
            "the: the\n",
            "last: last\n",
            "time: time\n",
            "i: i\n",
            "met: meet\n",
            "you: -PRON-\n"
          ],
          "name": "stdout"
        }
      ]
    },
    {
      "cell_type": "code",
      "metadata": {
        "id": "E11LPDOb-AdG"
      },
      "source": [
        ""
      ],
      "execution_count": null,
      "outputs": []
    }
  ]
}